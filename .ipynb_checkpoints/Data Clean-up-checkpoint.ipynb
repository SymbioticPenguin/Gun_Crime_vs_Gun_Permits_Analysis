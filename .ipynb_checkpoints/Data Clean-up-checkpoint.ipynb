{
 "cells": [
  {
   "cell_type": "code",
   "execution_count": 1,
   "metadata": {},
   "outputs": [],
   "source": [
    "import pandas as pd\n",
    "import numpy as np\n",
    "import gmaps\n",
    "from config import gkey\n",
    "from ipywidgets.embed import embed_minimal_html\n",
    "\n",
    "### File 1 is commented because the CSV file is too large to upload to Git. Will ask about getting ###\n",
    "### this into the github somehow on a later date. ###\n",
    "\n",
    "file = \"./RAW_DATA/gun-violence-data_01-2013_03-2018.csv\"\n",
    "file2 = './RAW_DATA/nics-firearm-background-checks.csv'\n",
    "file3 = './RAW_DATA/Mass_Shootings_Dataset.csv'\n",
    "\n",
    "violence = pd.read_csv(file)\n",
    "permit = pd.read_csv(file2)\n",
    "mass_shoot = pd.read_csv(file3,encoding = \"ISO-8859-1\")"
   ]
  },
  {
   "cell_type": "code",
   "execution_count": 2,
   "metadata": {},
   "outputs": [],
   "source": [
    "### Manipulate mass shooting data for use in visuals ###\n",
    "\n",
    "mass_shoot= mass_shoot[np.isfinite(mass_shoot['Latitude'])]\n",
    "\n",
    "mass_shoot = mass_shoot[['Date','Fatalities','Injured','Latitude','Longitude']]\n",
    "mass_shoot.reset_index(inplace = False)\n",
    "mass_shoot['year'] = mass_shoot[\"Date\"].str.split(\"/\").str[2]\n",
    "mass_shoot['year'] = mass_shoot['year'].astype('int32')\n",
    "mass_shoot[\"Casualties\"] = mass_shoot[\"Fatalities\"]+mass_shoot['Injured']\n",
    "mass_shoot = mass_shoot[['year','Casualties','Latitude','Longitude']]\n",
    "\n",
    "locations = mass_shoot[['Latitude','Longitude']].astype(float)\n",
    "\n"
   ]
  },
  {
   "cell_type": "code",
   "execution_count": 3,
   "metadata": {
    "scrolled": false
   },
   "outputs": [
    {
     "data": {
      "application/vnd.jupyter.widget-view+json": {
       "model_id": "93b9fabb24b74130937485a649f81561",
       "version_major": 2,
       "version_minor": 0
      },
      "text/plain": [
       "Figure(layout=FigureLayout(height='420px'))"
      ]
     },
     "metadata": {},
     "output_type": "display_data"
    }
   ],
   "source": [
    "### Create visual for geographical distribution of mass shootings in US ###\n",
    "\n",
    "gmaps.configure(api_key=gkey)\n",
    "casualties = mass_shoot['Casualties']\n",
    "locations = mass_shoot[[\"Latitude\",'Longitude']]\n",
    "figure = gmaps.figure(center = (38.0, -100.0),zoom_level = 3.9)\n",
    "\n",
    "### Not interested in showing this layer in a png. Not much more to gleam than what the heatmap already shows. Can\n",
    "### re-include later if need/want be ###\n",
    "\n",
    "# casualty_layer = gmaps.symbol_layer(\n",
    "#     locations, fill_color='rgba(0, 150, 0, 0.4)',\n",
    "#     stroke_color='rgba(0, 0, 150, 0.4)', scale=2,\n",
    "#     info_box_content=[f\"Casualties: {item}\" for item in casualties])\n",
    "\n",
    "heat_layer = gmaps.heatmap_layer(locations, weights=casualties, \n",
    "                                 dissipating=False, max_intensity=100,\n",
    "                                 point_radius = 1)\n",
    "figure.add_layer(heat_layer)\n",
    "\n",
    "figure\n"
   ]
  },
  {
   "cell_type": "code",
   "execution_count": null,
   "metadata": {},
   "outputs": [],
   "source": [
    "\n"
   ]
  },
  {
   "cell_type": "code",
   "execution_count": 4,
   "metadata": {},
   "outputs": [],
   "source": [
    "### Manipulate gun permit data by year ###\n",
    "\n",
    "permit[\"year\"] = permit['month'].str.split('-').str[0]\n",
    "\n",
    "permit['year'] = permit['year'].astype('int32')\n",
    "\n",
    "permit_new = permit.loc[permit['year']>=2013]\n",
    "permit_new = permit_new.filter(['year','state','totals'])"
   ]
  },
  {
   "cell_type": "code",
   "execution_count": null,
   "metadata": {},
   "outputs": [],
   "source": []
  },
  {
   "cell_type": "code",
   "execution_count": 5,
   "metadata": {},
   "outputs": [
    {
     "data": {
      "text/html": [
       "<div>\n",
       "<style scoped>\n",
       "    .dataframe tbody tr th:only-of-type {\n",
       "        vertical-align: middle;\n",
       "    }\n",
       "\n",
       "    .dataframe tbody tr th {\n",
       "        vertical-align: top;\n",
       "    }\n",
       "\n",
       "    .dataframe thead th {\n",
       "        text-align: right;\n",
       "    }\n",
       "</style>\n",
       "<table border=\"1\" class=\"dataframe\">\n",
       "  <thead>\n",
       "    <tr style=\"text-align: right;\">\n",
       "      <th></th>\n",
       "      <th>year</th>\n",
       "      <th>total_permits</th>\n",
       "    </tr>\n",
       "  </thead>\n",
       "  <tbody>\n",
       "    <tr>\n",
       "      <td>0</td>\n",
       "      <td>2013</td>\n",
       "      <td>20966704</td>\n",
       "    </tr>\n",
       "    <tr>\n",
       "      <td>1</td>\n",
       "      <td>2014</td>\n",
       "      <td>20860241</td>\n",
       "    </tr>\n",
       "    <tr>\n",
       "      <td>2</td>\n",
       "      <td>2015</td>\n",
       "      <td>23026288</td>\n",
       "    </tr>\n",
       "    <tr>\n",
       "      <td>3</td>\n",
       "      <td>2016</td>\n",
       "      <td>27425512</td>\n",
       "    </tr>\n",
       "    <tr>\n",
       "      <td>4</td>\n",
       "      <td>2017</td>\n",
       "      <td>24955919</td>\n",
       "    </tr>\n",
       "    <tr>\n",
       "      <td>5</td>\n",
       "      <td>2018</td>\n",
       "      <td>18855174</td>\n",
       "    </tr>\n",
       "  </tbody>\n",
       "</table>\n",
       "</div>"
      ],
      "text/plain": [
       "   year  total_permits\n",
       "0  2013       20966704\n",
       "1  2014       20860241\n",
       "2  2015       23026288\n",
       "3  2016       27425512\n",
       "4  2017       24955919\n",
       "5  2018       18855174"
      ]
     },
     "execution_count": 5,
     "metadata": {},
     "output_type": "execute_result"
    }
   ],
   "source": [
    "### Summary of total permits by year ###\n",
    "\n",
    "data = {\"year\":np.arange(2013,2019)}\n",
    "\n",
    "permit_sum = pd.DataFrame(data)\n",
    "permit_sum\n",
    "total_permits = []                        \n",
    "for i in range(2013,2019):\n",
    "     total_permits.append(permit_new.loc[permit_new['year']==i]['totals'].sum())\n",
    "permit_sum['total_permits'] = total_permits\n",
    "\n",
    "permit_sum"
   ]
  },
  {
   "cell_type": "code",
   "execution_count": 10,
   "metadata": {},
   "outputs": [
    {
     "data": {
      "text/html": [
       "<div>\n",
       "<style scoped>\n",
       "    .dataframe tbody tr th:only-of-type {\n",
       "        vertical-align: middle;\n",
       "    }\n",
       "\n",
       "    .dataframe tbody tr th {\n",
       "        vertical-align: top;\n",
       "    }\n",
       "\n",
       "    .dataframe thead th {\n",
       "        text-align: right;\n",
       "    }\n",
       "</style>\n",
       "<table border=\"1\" class=\"dataframe\">\n",
       "  <thead>\n",
       "    <tr style=\"text-align: right;\">\n",
       "      <th></th>\n",
       "      <th>incident_id</th>\n",
       "      <th>date</th>\n",
       "      <th>n_killed</th>\n",
       "      <th>n_injured</th>\n",
       "      <th>latitude</th>\n",
       "      <th>longitude</th>\n",
       "      <th>year</th>\n",
       "    </tr>\n",
       "  </thead>\n",
       "  <tbody>\n",
       "    <tr>\n",
       "      <td>0</td>\n",
       "      <td>461105</td>\n",
       "      <td>1/1/2013</td>\n",
       "      <td>0</td>\n",
       "      <td>4</td>\n",
       "      <td>40.3467</td>\n",
       "      <td>-79.8559</td>\n",
       "      <td>2013</td>\n",
       "    </tr>\n",
       "    <tr>\n",
       "      <td>1</td>\n",
       "      <td>460726</td>\n",
       "      <td>1/1/2013</td>\n",
       "      <td>1</td>\n",
       "      <td>3</td>\n",
       "      <td>33.9090</td>\n",
       "      <td>-118.3330</td>\n",
       "      <td>2013</td>\n",
       "    </tr>\n",
       "    <tr>\n",
       "      <td>2</td>\n",
       "      <td>478855</td>\n",
       "      <td>1/1/2013</td>\n",
       "      <td>1</td>\n",
       "      <td>3</td>\n",
       "      <td>41.4455</td>\n",
       "      <td>-82.1377</td>\n",
       "      <td>2013</td>\n",
       "    </tr>\n",
       "    <tr>\n",
       "      <td>3</td>\n",
       "      <td>478925</td>\n",
       "      <td>1/5/2013</td>\n",
       "      <td>4</td>\n",
       "      <td>0</td>\n",
       "      <td>39.6518</td>\n",
       "      <td>-104.8020</td>\n",
       "      <td>2013</td>\n",
       "    </tr>\n",
       "    <tr>\n",
       "      <td>4</td>\n",
       "      <td>478959</td>\n",
       "      <td>1/7/2013</td>\n",
       "      <td>2</td>\n",
       "      <td>2</td>\n",
       "      <td>36.1140</td>\n",
       "      <td>-79.9569</td>\n",
       "      <td>2013</td>\n",
       "    </tr>\n",
       "    <tr>\n",
       "      <td>...</td>\n",
       "      <td>...</td>\n",
       "      <td>...</td>\n",
       "      <td>...</td>\n",
       "      <td>...</td>\n",
       "      <td>...</td>\n",
       "      <td>...</td>\n",
       "      <td>...</td>\n",
       "    </tr>\n",
       "    <tr>\n",
       "      <td>239671</td>\n",
       "      <td>1082061</td>\n",
       "      <td>3/31/2018</td>\n",
       "      <td>0</td>\n",
       "      <td>0</td>\n",
       "      <td>47.6638</td>\n",
       "      <td>-117.2350</td>\n",
       "      <td>2018</td>\n",
       "    </tr>\n",
       "    <tr>\n",
       "      <td>239673</td>\n",
       "      <td>1083139</td>\n",
       "      <td>3/31/2018</td>\n",
       "      <td>1</td>\n",
       "      <td>0</td>\n",
       "      <td>31.7537</td>\n",
       "      <td>-93.0836</td>\n",
       "      <td>2018</td>\n",
       "    </tr>\n",
       "    <tr>\n",
       "      <td>239674</td>\n",
       "      <td>1083151</td>\n",
       "      <td>3/31/2018</td>\n",
       "      <td>0</td>\n",
       "      <td>1</td>\n",
       "      <td>29.9239</td>\n",
       "      <td>-90.0442</td>\n",
       "      <td>2018</td>\n",
       "    </tr>\n",
       "    <tr>\n",
       "      <td>239675</td>\n",
       "      <td>1082514</td>\n",
       "      <td>3/31/2018</td>\n",
       "      <td>1</td>\n",
       "      <td>0</td>\n",
       "      <td>29.7201</td>\n",
       "      <td>-95.6110</td>\n",
       "      <td>2018</td>\n",
       "    </tr>\n",
       "    <tr>\n",
       "      <td>239676</td>\n",
       "      <td>1081940</td>\n",
       "      <td>3/31/2018</td>\n",
       "      <td>2</td>\n",
       "      <td>0</td>\n",
       "      <td>44.7293</td>\n",
       "      <td>-69.7691</td>\n",
       "      <td>2018</td>\n",
       "    </tr>\n",
       "  </tbody>\n",
       "</table>\n",
       "<p>231754 rows × 7 columns</p>\n",
       "</div>"
      ],
      "text/plain": [
       "        incident_id       date  n_killed  n_injured  latitude  longitude  year\n",
       "0            461105   1/1/2013         0          4   40.3467   -79.8559  2013\n",
       "1            460726   1/1/2013         1          3   33.9090  -118.3330  2013\n",
       "2            478855   1/1/2013         1          3   41.4455   -82.1377  2013\n",
       "3            478925   1/5/2013         4          0   39.6518  -104.8020  2013\n",
       "4            478959   1/7/2013         2          2   36.1140   -79.9569  2013\n",
       "...             ...        ...       ...        ...       ...        ...   ...\n",
       "239671      1082061  3/31/2018         0          0   47.6638  -117.2350  2018\n",
       "239673      1083139  3/31/2018         1          0   31.7537   -93.0836  2018\n",
       "239674      1083151  3/31/2018         0          1   29.9239   -90.0442  2018\n",
       "239675      1082514  3/31/2018         1          0   29.7201   -95.6110  2018\n",
       "239676      1081940  3/31/2018         2          0   44.7293   -69.7691  2018\n",
       "\n",
       "[231754 rows x 7 columns]"
      ]
     },
     "execution_count": 10,
     "metadata": {},
     "output_type": "execute_result"
    }
   ],
   "source": [
    "### Manipulating the crime data ###\n",
    "\n",
    "### Make sure to un-comment once the csv size problem is fixed ###\n",
    "\n",
    "violence_new = violence[['incident_id','date','n_killed','n_injured','latitude','longitude']]\n",
    "violence_new = violence_new.dropna()\n",
    "violence_new.reset_index(inplace = False)\n",
    "violence_new['year'] = violence_new['date'].str.split('/').str[2]\n",
    "violence_new['year'] = violence_new['year'].astype(int)\n",
    "violence_new.head()\n",
    "violocation = violence_new[['latitude','longitude']]\n",
    "viocasual = violence_new['n_killed']+violence_new['n_injured']\n",
    "violence_new\n"
   ]
  },
  {
   "cell_type": "code",
   "execution_count": 7,
   "metadata": {},
   "outputs": [
    {
     "data": {
      "application/vnd.jupyter.widget-view+json": {
       "model_id": "1e3bc6f852834bd3af0ab1bdf6d1fc5d",
       "version_major": 2,
       "version_minor": 0
      },
      "text/plain": [
       "Figure(layout=FigureLayout(height='420px'))"
      ]
     },
     "metadata": {},
     "output_type": "display_data"
    }
   ],
   "source": [
    "fig = gmaps.figure(center = (38.0, -100.0),zoom_level = 3.9)\n",
    "\n",
    "heat_layer = gmaps.heatmap_layer(violocation, weights=viocasual, \n",
    "                                 dissipating=False, max_intensity=100,\n",
    "                                 point_radius = 0.25)\n",
    "\n",
    "fig.add_layer(heat_layer)\n",
    "fig"
   ]
  },
  {
   "cell_type": "code",
   "execution_count": null,
   "metadata": {},
   "outputs": [],
   "source": []
  },
  {
   "cell_type": "code",
   "execution_count": 8,
   "metadata": {},
   "outputs": [],
   "source": [
    "### Make sure to un-comment once the csv size problem is fixed ###\n",
    "\n",
    "violence_new.to_csv(r'./CLEAN_DATA/crime_data_clean.csv', index = False)\n",
    "permit_new.to_csv(r'./CLEAN_DATA/permit_data_clean.csv',index = False)\n",
    "permit_sum.to_csv(r'total_permits_by_year.csv',index = False)\n",
    "mass_shoot.to_csv(r'mass_shooting_data_clean.csv',index = False)"
   ]
  },
  {
   "cell_type": "code",
   "execution_count": null,
   "metadata": {},
   "outputs": [],
   "source": []
  },
  {
   "cell_type": "code",
   "execution_count": null,
   "metadata": {},
   "outputs": [],
   "source": []
  },
  {
   "cell_type": "code",
   "execution_count": null,
   "metadata": {},
   "outputs": [],
   "source": []
  }
 ],
 "metadata": {
  "kernelspec": {
   "display_name": "Python 3",
   "language": "python",
   "name": "python3"
  },
  "language_info": {
   "codemirror_mode": {
    "name": "ipython",
    "version": 3
   },
   "file_extension": ".py",
   "mimetype": "text/x-python",
   "name": "python",
   "nbconvert_exporter": "python",
   "pygments_lexer": "ipython3",
   "version": "3.7.4"
  }
 },
 "nbformat": 4,
 "nbformat_minor": 2
}
